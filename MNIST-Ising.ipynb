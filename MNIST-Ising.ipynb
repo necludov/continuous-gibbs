{
 "cells": [
  {
   "cell_type": "code",
   "execution_count": 1,
   "metadata": {},
   "outputs": [
    {
     "name": "stdout",
     "output_type": "stream",
     "text": [
      "Populating the interactive namespace from numpy and matplotlib\n"
     ]
    }
   ],
   "source": [
    "%pylab inline"
   ]
  },
  {
   "cell_type": "code",
   "execution_count": 2,
   "metadata": {},
   "outputs": [],
   "source": [
    "import torch\n",
    "import torchvision\n",
    "\n",
    "from core import BinMNIST"
   ]
  },
  {
   "cell_type": "code",
   "execution_count": 3,
   "metadata": {},
   "outputs": [],
   "source": [
    "class IsingModel2D:\n",
    "    def __init__(self, img):\n",
    "        self.w, self.h = img.shape\n",
    "        self.device = img.device\n",
    "        self.img = img*2 - 1\n",
    "        self.spins = img*2 - 1\n",
    "        self.dims = 2*torch.ones_like(self.spins, dtype=torch.int).to(self.device)\n",
    "        self.eta = 2.1\n",
    "        self.beta = 1.0\n",
    "        \n",
    "    def get_state(self):\n",
    "        return (self.spins > 0).int()\n",
    "    \n",
    "    def set_state(self, state):\n",
    "        self.spins = (2*state-1).to(self.device)\n",
    "        \n",
    "    def get_log_prob(self):\n",
    "        w,h = self.w, self.h\n",
    "        energy = -self.beta*torch.sum(self.spins[:,:w-1]*self.spins[:,1:])\n",
    "        energy += -self.beta*torch.sum(self.spins[:h-1,:]*self.spins[1:,:])\n",
    "        energy += -self.eta*torch.sum(self.spins*self.img)\n",
    "        return -energy\n",
    "        \n",
    "    def get_cond_prob(self):\n",
    "        w,h = self.w, self.h\n",
    "        cond_energy = torch.zeros_like(self.spins).to(self.device)\n",
    "        cond_energy[:,:w-1] += self.spins[:,1:]\n",
    "        cond_energy[:,1:] += self.spins[:,:w-1]\n",
    "        cond_energy[:h-1,:] += self.spins[1:,:]\n",
    "        cond_energy[1:,:] += self.spins[:h-1,:]\n",
    "        cond_energy = -self.beta*cond_energy - self.eta*self.img\n",
    "        cond_log_prob = -cond_energy - torch.logaddexp(cond_energy,-cond_energy)\n",
    "        cond_prob = torch.exp(cond_log_prob)\n",
    "        cond_prob = cond_prob*(self.spins > 0) + (1-cond_prob)*(self.spins < 0)\n",
    "        return cond_prob"
   ]
  },
  {
   "cell_type": "code",
   "execution_count": 4,
   "metadata": {},
   "outputs": [],
   "source": [
    "class DGibbs:\n",
    "    def __init__(self, distribution, v_coeffs=None):\n",
    "        assert hasattr(distribution, 'get_log_prob')\n",
    "        assert hasattr(distribution, 'get_state')\n",
    "        assert hasattr(distribution, 'set_state')\n",
    "        assert hasattr(distribution, 'dims')\n",
    "        assert hasattr(distribution, 'get_cond_prob')\n",
    "        self.dist = distribution\n",
    "        self.device = distribution.device\n",
    "        self.dims = self.dist.dims.flatten()\n",
    "        self.state = self.dist.get_state().clone().flatten()\n",
    "        self.x = self.state.clone()\n",
    "        self.v_coeffs = v_coeffs\n",
    "        if self.v_coeffs is None:\n",
    "            self.v = torch.ones_like(self.state).to(self.device)\n",
    "        else:\n",
    "            self.v = self.v_coeffs.to(self.device)\n",
    "        self.v = self.v/self.dist.get_cond_prob().flatten()\n",
    "        self.dist_to_border = torch.ones_like(self.v)\n",
    "        self.samples = []\n",
    "        self.weights = []\n",
    "        self.trajectory = [self.state.clone()]\n",
    "        \n",
    "    def iterate(self):\n",
    "        # evaluate time\n",
    "        time_until_border = self.dist_to_border/self.v\n",
    "        iterate_time = torch.min(time_until_border)\n",
    "        change_dim = torch.argmin(time_until_border)\n",
    "        # update coordinates\n",
    "        self.x = (self.x + self.v*iterate_time) % self.dims\n",
    "        self.state[change_dim] = (self.state[change_dim]+1) % self.dims[change_dim]\n",
    "        self.dist_to_border = self.dist_to_border - self.v*iterate_time\n",
    "        self.dist_to_border[change_dim] = 1.0\n",
    "        # put into samples\n",
    "        self.samples.append(self.state.clone().cpu())\n",
    "        self.weights.append(iterate_time.cpu())\n",
    "        self.trajectory.append(self.x.clone().cpu())\n",
    "        # update state\n",
    "        self.dist.set_state(self.state.reshape(self.dist.dims.shape).clone())\n",
    "        if self.v_coeffs is None:\n",
    "            self.v = torch.ones_like(self.state).to(self.device)\n",
    "        else:\n",
    "            self.v = self.v_coeffs.to(self.device)\n",
    "        self.v = self.v/self.dist.get_cond_prob().flatten()\n",
    "        \n",
    "class Gibbs:\n",
    "    def __init__(self, distribution):\n",
    "        assert hasattr(distribution, 'get_log_prob')\n",
    "        assert hasattr(distribution, 'get_state')\n",
    "        assert hasattr(distribution, 'set_state')\n",
    "        assert hasattr(distribution, 'dims')\n",
    "        assert hasattr(distribution, 'get_cond_prob')\n",
    "        self.dist = distribution\n",
    "        self.device = self.dist.device\n",
    "        self.dims = self.dist.dims.flatten()\n",
    "        self.state = self.dist.get_state().clone().flatten()\n",
    "        self.samples = []\n",
    "        self.weights = []\n",
    "        self.change_dim = 0\n",
    "        \n",
    "    def iterate(self):\n",
    "        cond_prob = self.dist.get_cond_prob().flatten()\n",
    "        # update coordinates\n",
    "        u = torch.empty([1]).uniform_().to(self.device)\n",
    "        if u > cond_prob[self.change_dim]:\n",
    "            self.state[self.change_dim] = (self.state[self.change_dim]+1) % self.dims[self.change_dim]\n",
    "        # put into samples\n",
    "        self.samples.append(self.state.clone())\n",
    "        self.weights.append(torch.tensor(1.0))\n",
    "        # update state\n",
    "        self.dist.set_state(self.state.reshape(self.dist.dims.shape).clone())\n",
    "        self.change_dim = (self.change_dim + 1) % self.state.shape[0]\n",
    "        \n",
    "def generate_primes(until_n):\n",
    "    all_numbers = np.arange(until_n)\n",
    "    prime_numbers = []\n",
    "    for i in range(2,np.ceil(np.sqrt(until_n)).astype(int)):\n",
    "        prime_numbers.append(i)\n",
    "        all_numbers[::i] = -1.0\n",
    "    prime_numbers = np.array(prime_numbers)\n",
    "    return np.concatenate([prime_numbers, all_numbers[all_numbers > 0][1:]])"
   ]
  },
  {
   "cell_type": "code",
   "execution_count": 5,
   "metadata": {},
   "outputs": [
    {
     "name": "stdout",
     "output_type": "stream",
     "text": [
      "prime numbers generated: 9842\n"
     ]
    }
   ],
   "source": [
    "mnist_dataset = BinMNIST.BinMNIST('./data/binMNIST', train=True, \n",
    "                                  transform=torchvision.transforms.ToTensor(), download=True)\n",
    "primes = generate_primes(100000)\n",
    "print('prime numbers generated:', len(primes))\n",
    "coeffs = torch.from_numpy(np.sqrt(primes)[:784])"
   ]
  },
  {
   "cell_type": "code",
   "execution_count": 15,
   "metadata": {},
   "outputs": [
    {
     "data": {
      "image/png": "[encoded data removed]",
      "text/plain": [
       "<Figure size 720x360 with 4 Axes>"
      ]
     },
     "metadata": {
      "needs_background": "light"
     },
     "output_type": "display_data"
    }
   ],
   "source": [
    "img, label = mnist_dataset[4]\n",
    "img = img.squeeze(0)\n",
    "noise = torch.empty_like(img).uniform_() > 0.9\n",
    "noisy_img = (img+noise) % 2\n",
    "device = torch.device('cuda:0')\n",
    "noisy_img = noisy_img.to(device)\n",
    "\n",
    "ising_dist_d = IsingModel2D(noisy_img.clone())\n",
    "ising_dist_s = IsingModel2D(noisy_img.clone())\n",
    "ising_dist = IsingModel2D(noisy_img.clone())\n",
    "\n",
    "pure_noise = torch.empty_like(img).uniform_() > 0.5\n",
    "ising_dist_d.set_state(pure_noise.clone())\n",
    "ising_dist_s.set_state(pure_noise.clone())\n",
    "ising_dist.set_state(pure_noise.clone())\n",
    "\n",
    "gibbs_d = DGibbs(ising_dist_d, v_coeffs=coeffs)\n",
    "suzuki = DGibbs(ising_dist_s)\n",
    "gibbs = Gibbs(ising_dist)\n",
    "\n",
    "figsize(10,5)\n",
    "plt.subplot(141)\n",
    "plt.imshow(img.numpy())\n",
    "plt.subplot(142)\n",
    "plt.imshow(gibbs.dist.spins.cpu().numpy())\n",
    "plt.subplot(143)\n",
    "plt.imshow(gibbs_d.dist.spins.cpu().numpy())\n",
    "plt.subplot(144)\n",
    "plt.imshow(suzuki.dist.spins.cpu().numpy())\n",
    "plt.show()"
   ]
  },
  {
   "cell_type": "code",
   "execution_count": 16,
   "metadata": {},
   "outputs": [],
   "source": [
    "n_iter = 20000\n",
    "probs_d = np.zeros(n_iter)\n",
    "probs_s = np.zeros(n_iter)\n",
    "probs = np.zeros(n_iter)\n",
    "for i in range(n_iter):\n",
    "    probs_d[i] = gibbs_d.dist.get_log_prob()\n",
    "    gibbs_d.iterate()\n",
    "    probs_s[i] = suzuki.dist.get_log_prob()\n",
    "    suzuki.iterate()\n",
    "    probs[i] = gibbs.dist.get_log_prob()\n",
    "    gibbs.iterate()"
   ]
  },
  {
   "cell_type": "code",
   "execution_count": 17,
   "metadata": {},
   "outputs": [
    {
     "data": {
      "image/png": "[encoded data removed]",
      "text/plain": [
       "<Figure size 1152x288 with 4 Axes>"
      ]
     },
     "metadata": {
      "needs_background": "light"
     },
     "output_type": "display_data"
    }
   ],
   "source": [
    "figsize(16,4)\n",
    "plt.subplot(141)\n",
    "plt.plot(probs, label='Gibbs')\n",
    "plt.plot(probs_s, label='Suzuki')\n",
    "plt.plot(probs_d, label='D-Gibbs')\n",
    "plt.ylabel('log prob', fontsize=15)\n",
    "plt.xlabel('num iterations', fontsize=15)\n",
    "plt.xscale('log')\n",
    "plt.box(False)\n",
    "plt.legend(fontsize=15)\n",
    "plt.grid()\n",
    "plt.subplot(142)\n",
    "plt.imshow(gibbs.dist.get_state().cpu().numpy())\n",
    "plt.title('Gibbs')\n",
    "plt.subplot(143)\n",
    "plt.imshow(suzuki.dist.get_state().cpu().numpy())\n",
    "plt.title('Suzuki')\n",
    "plt.subplot(144)\n",
    "plt.imshow(gibbs_d.dist.get_state().cpu().numpy())\n",
    "plt.title('dynamical Gibbs')\n",
    "plt.show()"
   ]
  },
  {
   "cell_type": "code",
   "execution_count": 18,
   "metadata": {},
   "outputs": [
    {
     "data": {
      "image/png": "[encoded data removed]",
      "text/plain": [
       "<Figure size 1152x288 with 3 Axes>"
      ]
     },
     "metadata": {
      "needs_background": "light"
     },
     "output_type": "display_data"
    }
   ],
   "source": [
    "def get_mean_sample(sampler, n_last):\n",
    "    samples = torch.stack(sampler.samples[-n_last:]).cpu().numpy()\n",
    "    weights = torch.stack(sampler.weights[-n_last:]).cpu().numpy().reshape([-1,1])\n",
    "    mean_sample = np.mean(samples*weights, axis=0).reshape(sampler.dist.img.shape)\n",
    "    return mean_sample\n",
    "\n",
    "n_last = 1000\n",
    "mean_sample_gibbs = get_mean_sample(gibbs, n_last)\n",
    "mean_sample_d = get_mean_sample(gibbs_d, n_last)\n",
    "mean_sample_s = get_mean_sample(suzuki, n_last)\n",
    "\n",
    "plt.subplot(131)\n",
    "plt.imshow(mean_sample_gibbs)\n",
    "plt.title('Gibbs')\n",
    "plt.subplot(132)\n",
    "plt.imshow(mean_sample_s)\n",
    "plt.title('Suzuki')\n",
    "plt.subplot(133)\n",
    "plt.imshow(mean_sample_d)\n",
    "plt.title('dynamical Gibbs')\n",
    "plt.show()"
   ]
  },
  {
   "cell_type": "code",
   "execution_count": null,
   "metadata": {},
   "outputs": [],
   "source": []
  }
 ],
 "metadata": {
  "kernelspec": {
   "display_name": "Python 3",
   "language": "python",
   "name": "python3"
  },
  "language_info": {
   "codemirror_mode": {
    "name": "ipython",
    "version": 3
   },
   "file_extension": ".py",
   "mimetype": "text/x-python",
   "name": "python",
   "nbconvert_exporter": "python",
   "pygments_lexer": "ipython3",
   "version": "3.7.9"
  }
 },
 "nbformat": 4,
 "nbformat_minor": 4
}
