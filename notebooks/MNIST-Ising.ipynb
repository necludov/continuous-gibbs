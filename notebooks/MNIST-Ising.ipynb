{
 "cells": [
  {
   "cell_type": "markdown",
   "metadata": {},
   "source": [
    "## Experiments"
   ]
  },
  {
   "cell_type": "code",
   "execution_count": 1,
   "metadata": {},
   "outputs": [
    {
     "name": "stdout",
     "output_type": "stream",
     "text": [
      "Populating the interactive namespace from numpy and matplotlib\n"
     ]
    }
   ],
   "source": [
    "%pylab inline"
   ]
  },
  {
   "cell_type": "code",
   "execution_count": 2,
   "metadata": {},
   "outputs": [],
   "source": [
    "import torch\n",
    "import torchvision\n",
    "\n",
    "import pickle\n",
    "import time\n",
    "\n",
    "import sys\n",
    "sys.path.append('..')\n",
    "from core import samplers, utility, datasets\n",
    "from core.distributions import IsingMNIST\n",
    "from core.dHMC import DHMCSampler, get_f_mnist, get_f_update_mnist"
   ]
  },
  {
   "cell_type": "code",
   "execution_count": 3,
   "metadata": {},
   "outputs": [
    {
     "data": {
      "image/png": "[encoded data removed]",
      "text/plain": [
       "<Figure size 720x288 with 5 Axes>"
      ]
     },
     "metadata": {
      "needs_background": "light"
     },
     "output_type": "display_data"
    }
   ],
   "source": [
    "mnist_dataset = datasets.BinMNIST('../data/binMNIST', train=True, \n",
    "                                  transform=torchvision.transforms.ToTensor(), download=True)\n",
    "batch_size = 20\n",
    "img_batch = np.zeros([batch_size,28,28])\n",
    "for i in range(batch_size):\n",
    "    img, label = mnist_dataset[i]\n",
    "    img_batch[i] = img.squeeze(0).numpy()\n",
    "    \n",
    "noise = np.random.uniform(size=img_batch.shape) > 0.9\n",
    "noisy_batch = (img_batch+noise) % 2\n",
    "\n",
    "figsize(10,4)\n",
    "for i in range(5):\n",
    "    plt.subplot(1,5,i+1)\n",
    "    plt.imshow(noisy_batch[i])\n",
    "plt.show()"
   ]
  },
  {
   "cell_type": "code",
   "execution_count": 4,
   "metadata": {},
   "outputs": [],
   "source": [
    "n_samples = 10\n",
    "batch_size = 15\n",
    "\n",
    "target = IsingMNIST(noisy_batch[0], beta=1.0, eta=2.1)\n",
    "initial_states = noisy_batch\n",
    "\n",
    "primes = utility.generate_primes(100000)\n",
    "gibbs_d = samplers.DGibbs(target, v_coeffs=np.sqrt(primes)[:img_batch.shape[1]*img_batch.shape[2]])\n",
    "suzuki = samplers.DGibbs(target)\n",
    "gibbs = samplers.Gibbs(target)"
   ]
  },
  {
   "cell_type": "code",
   "execution_count": 23,
   "metadata": {},
   "outputs": [],
   "source": [
    "def plot_samples(sampler, state0, xlabel):\n",
    "    sampler.initialize(state0.flatten())    \n",
    "    samples = np.zeros([n_samples,img_batch.shape[1]*img_batch.shape[2]])\n",
    "    for x_id in range(n_samples):\n",
    "        samples[x_id], _ = sampler.iterate_n(50)\n",
    "        \n",
    "    fig, ax = plt.subplots(1, n_samples+1, figsize=(18, 6))\n",
    "    ax[0].imshow(state0.reshape([img_batch.shape[1],img_batch.shape[2]]), \n",
    "                 cmap='gray', interpolation='nearest')\n",
    "    ax[0].set_title('init')\n",
    "    ax[0].set_xticks([])\n",
    "    ax[0].set_yticks([])\n",
    "    ax[0].spines['top'].set_visible(False)\n",
    "    ax[0].spines['right'].set_visible(False)\n",
    "    ax[0].spines['bottom'].set_visible(False)\n",
    "    ax[0].spines['left'].set_visible(False)\n",
    "    ax[0].set_ylabel(xlabel, fontsize=20)\n",
    "    for x_id in range(n_samples):\n",
    "        ax[x_id+1].set_title('iter %d' % ((x_id+1)*50))\n",
    "        ax[x_id+1].imshow(samples[x_id].reshape([img_batch.shape[1],img_batch.shape[2]]), \n",
    "                          cmap='gray', interpolation='nearest')\n",
    "        ax[x_id+1].set_axis_off()\n",
    "        \n",
    "def plot_dHMC(state0):\n",
    "    dhmc = DHMCSampler(get_f_mnist(noisy_batch[0].astype(float)), \n",
    "                       get_f_update_mnist(noisy_batch[0].astype(float)), 784, 784)\n",
    "    dt = 0.9 * np.array([.8, 1])\n",
    "    nstep = [1, 2]\n",
    "    theta0 = initial_states[0].flatten().astype(np.float)\n",
    "    prev_sample = state0\n",
    "    samples = np.zeros([n_samples,img_batch.shape[1]*img_batch.shape[2]])\n",
    "    for x_id in range(n_samples):\n",
    "        x, logp_samples, time_elapsed = dhmc.run_sampler(prev_sample.flatten(), dt, nstep, \n",
    "                                                         n_burnin=0, n_sample=50, \n",
    "                                                         seed=1, n_update=1)\n",
    "        samples[x_id] = x[-1]\n",
    "        prev_sample = x[-1]\n",
    "    samples = np.floor(samples)\n",
    "        \n",
    "    fig, ax = plt.subplots(1, n_samples+1, figsize=(18, 6))\n",
    "    ax[0].imshow(state0.reshape([img_batch.shape[1],img_batch.shape[2]]), \n",
    "                 cmap='gray', interpolation='nearest')\n",
    "    ax[0].set_title('init')\n",
    "    ax[0].set_xticks([])\n",
    "    ax[0].set_yticks([])\n",
    "    ax[0].spines['top'].set_visible(False)\n",
    "    ax[0].spines['right'].set_visible(False)\n",
    "    ax[0].spines['bottom'].set_visible(False)\n",
    "    ax[0].spines['left'].set_visible(False)\n",
    "    ax[0].set_ylabel('dHMC', fontsize=20)\n",
    "    for x_id in range(n_samples):\n",
    "        ax[x_id+1].set_title('iter %d' % ((x_id+1)*50))\n",
    "        ax[x_id+1].imshow(samples[x_id].reshape([img_batch.shape[1],img_batch.shape[2]]), \n",
    "                          cmap='gray', interpolation='nearest')\n",
    "        ax[x_id+1].set_axis_off()"
   ]
  },
  {
   "cell_type": "code",
   "execution_count": 24,
   "metadata": {},
   "outputs": [
    {
     "data": {
      "image/png": "[encoded data removed]",
      "text/plain": [
       "<Figure size 1296x432 with 11 Axes>"
      ]
     },
     "metadata": {
      "needs_background": "light"
     },
     "output_type": "display_data"
    },
    {
     "data": {
      "image/png": "[encoded data removed]",
      "text/plain": [
       "<Figure size 1296x432 with 11 Axes>"
      ]
     },
     "metadata": {
      "needs_background": "light"
     },
     "output_type": "display_data"
    },
    {
     "data": {
      "image/png": "[encoded data removed]",
      "text/plain": [
       "<Figure size 1296x432 with 11 Axes>"
      ]
     },
     "metadata": {
      "needs_background": "light"
     },
     "output_type": "display_data"
    },
    {
     "data": {
      "image/png": "[encoded data removed]",
      "text/plain": [
       "<Figure size 1296x432 with 11 Axes>"
      ]
     },
     "metadata": {
      "needs_background": "light"
     },
     "output_type": "display_data"
    }
   ],
   "source": [
    "plot_samples(gibbs, initial_states[0], 'Gibbs')\n",
    "plt.savefig('../results/mnist/gibbs_denoise.pdf',bbox_inches='tight')\n",
    "plot_dHMC(initial_states[0])\n",
    "plt.savefig('../results/mnist/dHMC_denoise.pdf',bbox_inches='tight')\n",
    "plot_samples(suzuki, initial_states[0], 'Suzuki')\n",
    "plt.savefig('../results/mnist/suzuki_denoise.pdf',bbox_inches='tight')\n",
    "plot_samples(gibbs_d, initial_states[0], 'DGibbs')\n",
    "plt.savefig('../results/mnist/d_denoise.pdf',bbox_inches='tight')"
   ]
  },
  {
   "cell_type": "code",
   "execution_count": null,
   "metadata": {},
   "outputs": [],
   "source": [
    "samples_gibbs = np.zeros([n_samples,img_batch.shape[1],img_batch.shape[2]])\n",
    "for i in range(len(samples_gibbs)):\n",
    "gibbs.iterate_n(img_batch.shape[1]*img_batch.shape[2])"
   ]
  },
  {
   "cell_type": "code",
   "execution_count": 5,
   "metadata": {},
   "outputs": [],
   "source": [
    "pure_noise = (torch.rand(img_batch.shape) > 0.5).to(device)\n",
    "ising_gibbs = distributions.IsingModel2DBatch(noisy_batch.clone(), noisy_batch.clone(), beta=1.0, eta=2.1)\n",
    "ising_suzuki = distributions.IsingModel2DBatch(noisy_batch.clone(), noisy_batch.clone(), beta=1.0, eta=2.1)\n",
    "ising_gibbs_d = distributions.IsingModel2DBatch(noisy_batch.clone(), noisy_batch.clone(), beta=1.0, eta=2.1)"
   ]
  },
  {
   "cell_type": "code",
   "execution_count": 6,
   "metadata": {},
   "outputs": [
    {
     "name": "stdout",
     "output_type": "stream",
     "text": [
      "prime numbers generated: 9842\n"
     ]
    }
   ],
   "source": [
    "gibbs = samplers.GibbsBatch(ising_gibbs)\n",
    "suzuki = samplers.DGibbsBatch(ising_suzuki)\n",
    "\n",
    "primes = utility.generate_primes(100000)\n",
    "print('prime numbers generated:', len(primes))\n",
    "coeffs = torch.from_numpy(np.power(primes, np.ones_like(primes)/2.)[:784])\n",
    "gibbs_d = samplers.DGibbsBatch(ising_gibbs_d, v_coeffs=coeffs)"
   ]
  },
  {
   "cell_type": "code",
   "execution_count": 7,
   "metadata": {},
   "outputs": [
    {
     "data": {
      "image/png": "[encoded data removed]",
      "text/plain": [
       "<Figure size 720x360 with 4 Axes>"
      ]
     },
     "metadata": {
      "needs_background": "light"
     },
     "output_type": "display_data"
    }
   ],
   "source": [
    "figsize(10,5)\n",
    "plt.subplot(141)\n",
    "plt.imshow(img_batch.cpu().numpy()[0])\n",
    "plt.subplot(142)\n",
    "plt.imshow(gibbs.dist.spins.cpu().numpy()[0])\n",
    "plt.subplot(143)\n",
    "plt.imshow(gibbs_d.dist.spins.cpu().numpy()[0])\n",
    "plt.subplot(144)\n",
    "plt.imshow(suzuki.dist.spins.cpu().numpy()[0])\n",
    "plt.show()"
   ]
  },
  {
   "cell_type": "code",
   "execution_count": 8,
   "metadata": {},
   "outputs": [
    {
     "name": "stdout",
     "output_type": "stream",
     "text": [
      "CPU times: user 31.1 s, sys: 6.43 ms, total: 31.1 s\n",
      "Wall time: 31.1 s\n"
     ]
    }
   ],
   "source": [
    "%%time\n",
    "n_iter = 1000*100\n",
    "for i in range(n_iter):\n",
    "    gibbs.iterate()"
   ]
  },
  {
   "cell_type": "code",
   "execution_count": 9,
   "metadata": {},
   "outputs": [
    {
     "name": "stdout",
     "output_type": "stream",
     "text": [
      "CPU times: user 52.9 s, sys: 12.9 ms, total: 52.9 s\n",
      "Wall time: 52.9 s\n"
     ]
    }
   ],
   "source": [
    "%%time\n",
    "n_iter = 1000*100\n",
    "for i in range(n_iter):\n",
    "    gibbs_d.iterate()"
   ]
  },
  {
   "cell_type": "code",
   "execution_count": 8,
   "metadata": {},
   "outputs": [],
   "source": [
    "n_iter = 10000\n",
    "probs = np.zeros([batch_size,n_iter])\n",
    "probs_d = np.zeros([batch_size,n_iter])\n",
    "probs_s = np.zeros([batch_size,n_iter])\n",
    "for i in range(n_iter):\n",
    "    probs[:,i] = gibbs.dist.get_log_prob().cpu().numpy()\n",
    "    gibbs.iterate()\n",
    "    probs_d[:,i] = gibbs_d.dist.get_log_prob().cpu().numpy()\n",
    "    gibbs_d.iterate()\n",
    "    probs_s[:,i] = suzuki.dist.get_log_prob().cpu().numpy()\n",
    "    suzuki.iterate()"
   ]
  },
  {
   "cell_type": "code",
   "execution_count": 9,
   "metadata": {},
   "outputs": [
    {
     "data": {
      "image/png": "[encoded data removed]",
      "text/plain": [
       "<Figure size 1152x288 with 4 Axes>"
      ]
     },
     "metadata": {
      "needs_background": "light"
     },
     "output_type": "display_data"
    }
   ],
   "source": [
    "figsize(16,4)\n",
    "plt.subplot(141)\n",
    "plt.plot(np.mean(probs, axis=0), label='Gibbs')\n",
    "plt.plot(np.mean(probs_s, axis=0), label='Suzuki')\n",
    "plt.plot(np.mean(probs_d, axis=0), label='D-Gibbs')\n",
    "plt.ylabel('log prob', fontsize=15)\n",
    "plt.xlabel('num iterations', fontsize=15)\n",
    "plt.xscale('log')\n",
    "plt.box(False)\n",
    "plt.legend(fontsize=15)\n",
    "plt.grid()\n",
    "plt.subplot(142)\n",
    "plt.imshow(gibbs.dist.get_state().cpu().numpy()[0])\n",
    "plt.title('Gibbs')\n",
    "plt.subplot(143)\n",
    "plt.imshow(suzuki.dist.get_state().cpu().numpy()[0])\n",
    "plt.title('Suzuki')\n",
    "plt.subplot(144)\n",
    "plt.imshow(gibbs_d.dist.get_state().cpu().numpy()[0])\n",
    "plt.title('dynamical Gibbs')\n",
    "plt.show()"
   ]
  },
  {
   "cell_type": "code",
   "execution_count": null,
   "metadata": {},
   "outputs": [],
   "source": []
  }
 ],
 "metadata": {
  "kernelspec": {
   "display_name": "Python 3",
   "language": "python",
   "name": "python3"
  },
  "language_info": {
   "codemirror_mode": {
    "name": "ipython",
    "version": 3
   },
   "file_extension": ".py",
   "mimetype": "text/x-python",
   "name": "python",
   "nbconvert_exporter": "python",
   "pygments_lexer": "ipython3",
   "version": "3.8.5"
  }
 },
 "nbformat": 4,
 "nbformat_minor": 4
}
